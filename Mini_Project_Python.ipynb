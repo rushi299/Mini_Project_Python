{
  "nbformat": 4,
  "nbformat_minor": 0,
  "metadata": {
    "colab": {
      "name": "Mini_Project_Python.ipynb",
      "provenance": []
    },
    "kernelspec": {
      "name": "python3",
      "display_name": "Python 3"
    }
  },
  "cells": [
    {
      "cell_type": "code",
      "metadata": {
        "id": "tehDtTC-ZHjA",
        "outputId": "9cba41dd-8a47-4833-9359-258bff4bca6d",
        "colab": {
          "base_uri": "https://localhost:8080/"
        }
      },
      "source": [
        "!pip install dnspython"
      ],
      "execution_count": 8,
      "outputs": [
        {
          "output_type": "stream",
          "text": [
            "Collecting dnspython\n",
            "\u001b[?25l  Downloading https://files.pythonhosted.org/packages/90/49/cb426577c28ca3e35332815b795a99e467523843fc83cc85ca0d6be2515a/dnspython-2.0.0-py3-none-any.whl (208kB)\n",
            "\r\u001b[K     |█▋                              | 10kB 18.6MB/s eta 0:00:01\r\u001b[K     |███▏                            | 20kB 4.8MB/s eta 0:00:01\r\u001b[K     |████▊                           | 30kB 6.8MB/s eta 0:00:01\r\u001b[K     |██████▎                         | 40kB 6.8MB/s eta 0:00:01\r\u001b[K     |███████▉                        | 51kB 6.7MB/s eta 0:00:01\r\u001b[K     |█████████▍                      | 61kB 7.3MB/s eta 0:00:01\r\u001b[K     |███████████                     | 71kB 7.9MB/s eta 0:00:01\r\u001b[K     |████████████▋                   | 81kB 8.2MB/s eta 0:00:01\r\u001b[K     |██████████████▏                 | 92kB 8.4MB/s eta 0:00:01\r\u001b[K     |███████████████▊                | 102kB 8.6MB/s eta 0:00:01\r\u001b[K     |█████████████████▎              | 112kB 8.6MB/s eta 0:00:01\r\u001b[K     |██████████████████▉             | 122kB 8.6MB/s eta 0:00:01\r\u001b[K     |████████████████████▌           | 133kB 8.6MB/s eta 0:00:01\r\u001b[K     |██████████████████████          | 143kB 8.6MB/s eta 0:00:01\r\u001b[K     |███████████████████████▋        | 153kB 8.6MB/s eta 0:00:01\r\u001b[K     |█████████████████████████▏      | 163kB 8.6MB/s eta 0:00:01\r\u001b[K     |██████████████████████████▊     | 174kB 8.6MB/s eta 0:00:01\r\u001b[K     |████████████████████████████▎   | 184kB 8.6MB/s eta 0:00:01\r\u001b[K     |██████████████████████████████  | 194kB 8.6MB/s eta 0:00:01\r\u001b[K     |███████████████████████████████▌| 204kB 8.6MB/s eta 0:00:01\r\u001b[K     |████████████████████████████████| 215kB 8.6MB/s \n",
            "\u001b[?25hInstalling collected packages: dnspython\n",
            "Successfully installed dnspython-2.0.0\n"
          ],
          "name": "stdout"
        }
      ]
    },
    {
      "cell_type": "code",
      "metadata": {
        "id": "T-ELOeRRZL7H",
        "outputId": "14fcdf61-2b03-46db-9cd7-cb3693cdeb03",
        "colab": {
          "base_uri": "https://localhost:8080/"
        }
      },
      "source": [
        "#Simple program to fetch dns record of a given website\n",
        "\n",
        "import dns.resolver\n",
        "\n",
        "#Dictionary to store the dns record of a website\n",
        "dns_records = {}\n",
        "\n",
        "#User defined website\n",
        "website = input(\"Enter the name of the website: \")\n",
        "\n",
        "#Fetching the 'A' record of the website and storing it in the dictionary\n",
        "a_record = dns.resolver.resolve(website, 'A')\n",
        "for ipval in a_record:\n",
        "    dns_records['A_Record_IP'] = ipval.to_text()\n",
        "\n",
        "#List to store the mx records of a website\n",
        "mx_record_list = []\n",
        "\n",
        "#Fetching the mx records and storing them in the dictionary\n",
        "mx_record = dns.resolver.resolve(website,'MX')\n",
        "for server in mx_record:\n",
        "   mx_record_list.append(server)\n",
        "for i, element in enumerate(mx_record_list):\n",
        "    dns_records['MX_Record', i+1] = element\n",
        "\n",
        "#Displaying the record on the screen\n",
        "for key,value in dns_record.items():\n",
        "    print(f\"{key} = {value}\")"
      ],
      "execution_count": 12,
      "outputs": [
        {
          "output_type": "stream",
          "text": [
            "Enter the name of the website: charusat.ac.in\n",
            "A_Record_IP = 185.151.30.139\n",
            "('MX_Record', 1) = 5 ALT1.ASPMX.L.GOOGLE.COM.\n",
            "('MX_Record', 2) = 1 ASPMX.L.GOOGLE.COM.\n",
            "('MX_Record', 3) = 5 ALT2.ASPMX.L.GOOGLE.COM.\n",
            "('MX_Record', 4) = 10 ALT3.ASPMX.L.GOOGLE.COM.\n",
            "('MX_Record', 5) = 10 ALT4.ASPMX.L.GOOGLE.COM.\n"
          ],
          "name": "stdout"
        }
      ]
    }
  ]
}